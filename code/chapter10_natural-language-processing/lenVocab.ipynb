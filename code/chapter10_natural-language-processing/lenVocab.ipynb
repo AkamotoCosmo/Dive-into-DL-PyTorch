{
 "cells": [
  {
   "cell_type": "markdown",
   "metadata": {
    "collapsed": true,
    "pycharm": {
     "name": "#%% md\n"
    }
   },
   "source": [
    "## コーパスを形態素解析して、全ての単語にIDを割り振って、単語IDの系列データにする前の一連の流れは、例えば以下のような感じでよいでしょう。\n",
    "（形態素解析にはとりえあずMeCab使います。前処理で英数字や記号は諸々削除しています）"
   ]
  },
  {
   "cell_type": "code",
   "execution_count": 9,
   "outputs": [
    {
     "name": "stdout",
     "text": [
      "vocab size :  2361\n"
     ],
     "output_type": "stream"
    }
   ],
   "source": [
    "import MeCab\n",
    "import re\n",
    "import torch\n",
    "import os\n",
    "\n",
    "DATA_ROOT = \"C:\\\\Users\\\\CK\\\\Dive-into-DL-PyTorch\\\\data\"\n",
    "\n",
    "tagger = MeCab.Tagger('-Owakati')\n",
    "\n",
    "def make_wakati(sentence):\n",
    "    # MeCabで分かち書き\n",
    "    sentence = tagger.parse(sentence)\n",
    "    # 半角全角英数字除去\n",
    "    sentence = re.sub(r'[0-9０-９a-zA-Zａ-ｚＡ-Ｚ]+', \" \", sentence)\n",
    "    # 記号もろもろ除去\n",
    "    sentence = re.sub(r'[\\．_－―─！＠＃＄％＾＆\\-‐|\\\\＊\\“（）＿■×+α※÷⇒—●★☆〇◎◆▼◇△□(：〜～＋=)／*&^%$#@!~`){}［］…\\[\\]\\\"\\'\\”\\’:;<>?＜＞〔〕〈〉？、。・,\\./『』【】「」→←○《》≪≫\\n\\u3000]+', \"\", sentence)\n",
    "    # スペースで区切って形態素の配列へ\n",
    "    wakati = sentence.split(\" \")\n",
    "    # 空の要素は削除\n",
    "    wakati = list(filter((\"\").__ne__, wakati))\n",
    "    return wakati\n",
    "\n",
    "# テスト\n",
    "test = \"【人工知能】は「人間」の仕事を奪った\"\n",
    "#print(make_wakati(test))\n",
    "# ['人工', '知能', 'は', '人間', 'の', '仕事', 'を', '奪っ', 'た']\n",
    "\n",
    "# 単語ID辞書を作成する\n",
    "word2index = {}\n",
    "\n",
    "with open(os.path.join(DATA_ROOT, 'diary_learning_data_DL.txt'),'r',encoding='UTF-8')as f:\n",
    "    lines = f.readlines()\n",
    "    for index,line in enumerate(lines,1):\n",
    "        #print(index,line)\n",
    "        wakati = make_wakati(line)\n",
    "        for word in wakati:\n",
    "            if word in word2index: continue\n",
    "            word2index[word] = len(word2index)\n",
    "print(\"vocab size : \", len(word2index))\n",
    "# vocab size :  13229"
   ],
   "metadata": {
    "collapsed": false,
    "pycharm": {
     "name": "#%%\n",
     "is_executing": false
    }
   }
  }
 ],
 "metadata": {
  "kernelspec": {
   "display_name": "Python 3",
   "language": "python",
   "name": "python3"
  },
  "language_info": {
   "codemirror_mode": {
    "name": "ipython",
    "version": 2
   },
   "file_extension": ".py",
   "mimetype": "text/x-python",
   "name": "python",
   "nbconvert_exporter": "python",
   "pygments_lexer": "ipython2",
   "version": "2.7.6"
  },
  "pycharm": {
   "stem_cell": {
    "cell_type": "raw",
    "source": [],
    "metadata": {
     "collapsed": false
    }
   }
  }
 },
 "nbformat": 4,
 "nbformat_minor": 0
}